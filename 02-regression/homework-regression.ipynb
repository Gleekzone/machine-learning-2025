{
 "cells": [
  {
   "cell_type": "code",
   "execution_count": 23,
   "id": "5db9f6cb-3d27-4718-91b8-52ca7e537242",
   "metadata": {},
   "outputs": [],
   "source": [
    "import pandas as pd\n",
    "import numpy as np\n",
    "import matplotlib.pyplot as plt\n",
    "import seaborn as sns"
   ]
  },
  {
   "cell_type": "markdown",
   "id": "d20f700b-4e61-4ca1-bebd-15aa4e2bd820",
   "metadata": {},
   "source": [
    "#### Load dataset"
   ]
  },
  {
   "cell_type": "code",
   "execution_count": 46,
   "id": "16afc833-5529-48c8-a780-8e80b1c90e73",
   "metadata": {},
   "outputs": [],
   "source": [
    "df = pd.read_csv(\"https://raw.githubusercontent.com/alexeygrigorev/datasets/master/car_fuel_efficiency.csv\")"
   ]
  },
  {
   "cell_type": "code",
   "execution_count": 53,
   "id": "44e7799f-dff5-4f95-a32b-0070db6ca40e",
   "metadata": {},
   "outputs": [
    {
     "data": {
      "text/html": [
       "<div>\n",
       "<style scoped>\n",
       "    .dataframe tbody tr th:only-of-type {\n",
       "        vertical-align: middle;\n",
       "    }\n",
       "\n",
       "    .dataframe tbody tr th {\n",
       "        vertical-align: top;\n",
       "    }\n",
       "\n",
       "    .dataframe thead th {\n",
       "        text-align: right;\n",
       "    }\n",
       "</style>\n",
       "<table border=\"1\" class=\"dataframe\">\n",
       "  <thead>\n",
       "    <tr style=\"text-align: right;\">\n",
       "      <th></th>\n",
       "      <th>engine_displacement</th>\n",
       "      <th>horsepower</th>\n",
       "      <th>vehicle_weight</th>\n",
       "      <th>model_year</th>\n",
       "      <th>fuel_efficiency_mpg</th>\n",
       "    </tr>\n",
       "  </thead>\n",
       "  <tbody>\n",
       "    <tr>\n",
       "      <th>0</th>\n",
       "      <td>170</td>\n",
       "      <td>159.0</td>\n",
       "      <td>3413.433759</td>\n",
       "      <td>2003</td>\n",
       "      <td>13.231729</td>\n",
       "    </tr>\n",
       "    <tr>\n",
       "      <th>1</th>\n",
       "      <td>130</td>\n",
       "      <td>97.0</td>\n",
       "      <td>3149.664934</td>\n",
       "      <td>2007</td>\n",
       "      <td>13.688217</td>\n",
       "    </tr>\n",
       "    <tr>\n",
       "      <th>2</th>\n",
       "      <td>170</td>\n",
       "      <td>78.0</td>\n",
       "      <td>3079.038997</td>\n",
       "      <td>2018</td>\n",
       "      <td>14.246341</td>\n",
       "    </tr>\n",
       "    <tr>\n",
       "      <th>3</th>\n",
       "      <td>220</td>\n",
       "      <td>NaN</td>\n",
       "      <td>2542.392402</td>\n",
       "      <td>2009</td>\n",
       "      <td>16.912736</td>\n",
       "    </tr>\n",
       "    <tr>\n",
       "      <th>4</th>\n",
       "      <td>210</td>\n",
       "      <td>140.0</td>\n",
       "      <td>3460.870990</td>\n",
       "      <td>2009</td>\n",
       "      <td>12.488369</td>\n",
       "    </tr>\n",
       "  </tbody>\n",
       "</table>\n",
       "</div>"
      ],
      "text/plain": [
       "   engine_displacement  horsepower  vehicle_weight  model_year  \\\n",
       "0                  170       159.0     3413.433759        2003   \n",
       "1                  130        97.0     3149.664934        2007   \n",
       "2                  170        78.0     3079.038997        2018   \n",
       "3                  220         NaN     2542.392402        2009   \n",
       "4                  210       140.0     3460.870990        2009   \n",
       "\n",
       "   fuel_efficiency_mpg  \n",
       "0            13.231729  \n",
       "1            13.688217  \n",
       "2            14.246341  \n",
       "3            16.912736  \n",
       "4            12.488369  "
      ]
     },
     "execution_count": 53,
     "metadata": {},
     "output_type": "execute_result"
    }
   ],
   "source": [
    "df.head()"
   ]
  },
  {
   "cell_type": "markdown",
   "id": "b3fe5c15-be68-4d1f-bfad-28ac10049e06",
   "metadata": {},
   "source": [
    "#### Data preparation\n",
    "Select only the following columns: 'engine_displacement', 'horsepower', 'vehicle_weight', 'model_year', 'fuel_efficiency_mpg'"
   ]
  },
  {
   "cell_type": "code",
   "execution_count": 47,
   "id": "d2b5f33c-a4be-4d03-b4a4-547406ecb63c",
   "metadata": {},
   "outputs": [],
   "source": [
    "df = df[['engine_displacement', 'horsepower', 'vehicle_weight', 'model_year', 'fuel_efficiency_mpg']]"
   ]
  },
  {
   "cell_type": "code",
   "execution_count": 48,
   "id": "0b6b06ba-c5ba-4654-b5c8-54d6ac947e21",
   "metadata": {},
   "outputs": [
    {
     "data": {
      "text/plain": [
       "Index(['engine_displacement', 'horsepower', 'vehicle_weight', 'model_year',\n",
       "       'fuel_efficiency_mpg'],\n",
       "      dtype='object')"
      ]
     },
     "execution_count": 48,
     "metadata": {},
     "output_type": "execute_result"
    }
   ],
   "source": [
    "df.columns"
   ]
  },
  {
   "cell_type": "markdown",
   "id": "95ebc2dc-729f-4996-ae55-0da6c4ff5a08",
   "metadata": {},
   "source": [
    "#### EDA"
   ]
  },
  {
   "cell_type": "code",
   "execution_count": 49,
   "id": "a16d3667-a0e0-4f9b-8184-d00074ba08f6",
   "metadata": {},
   "outputs": [
    {
     "data": {
      "image/png": "[encoded data removed]",
      "text/plain": [
       "<Figure size 640x480 with 1 Axes>"
      ]
     },
     "metadata": {},
     "output_type": "display_data"
    }
   ],
   "source": [
    "df['fuel_efficiency_mpg'].hist(bins=40)\n",
    "plt.show()"
   ]
  },
  {
   "cell_type": "code",
   "execution_count": 50,
   "id": "00817a67-f494-4036-ae8f-c5405e2832dd",
   "metadata": {},
   "outputs": [
    {
     "data": {
      "text/plain": [
       "np.float64(-0.012062219273507962)"
      ]
     },
     "execution_count": 50,
     "metadata": {},
     "output_type": "execute_result"
    }
   ],
   "source": [
    "# Does it have a long tail?  Ans= No\n",
    "df['fuel_efficiency_mpg'].skew()"
   ]
  },
  {
   "cell_type": "markdown",
   "id": "4b54b718-0eef-4e01-8fdf-20e94925cec5",
   "metadata": {},
   "source": [
    "### Question 1\n",
    "There's one column with missing values. What is it?"
   ]
  },
  {
   "cell_type": "code",
   "execution_count": 51,
   "id": "6841107a-3cfc-4ace-bf2a-d606eff11a51",
   "metadata": {},
   "outputs": [
    {
     "data": {
      "text/plain": [
       "engine_displacement      0\n",
       "horsepower             708\n",
       "vehicle_weight           0\n",
       "model_year               0\n",
       "fuel_efficiency_mpg      0\n",
       "dtype: int64"
      ]
     },
     "execution_count": 51,
     "metadata": {},
     "output_type": "execute_result"
    }
   ],
   "source": [
    "df.isnull().sum()"
   ]
  },
  {
   "cell_type": "markdown",
   "id": "fdfd8c94-67f7-4fd9-bd55-7ed203015ed8",
   "metadata": {},
   "source": [
    "### Question 2\n",
    "What's the median (50% percentile) for variable 'horsepower'?"
   ]
  },
  {
   "cell_type": "code",
   "execution_count": 52,
   "id": "67c81601-841b-4e14-951a-f505f609b4d6",
   "metadata": {},
   "outputs": [
    {
     "data": {
      "text/html": [
       "<div>\n",
       "<style scoped>\n",
       "    .dataframe tbody tr th:only-of-type {\n",
       "        vertical-align: middle;\n",
       "    }\n",
       "\n",
       "    .dataframe tbody tr th {\n",
       "        vertical-align: top;\n",
       "    }\n",
       "\n",
       "    .dataframe thead th {\n",
       "        text-align: right;\n",
       "    }\n",
       "</style>\n",
       "<table border=\"1\" class=\"dataframe\">\n",
       "  <thead>\n",
       "    <tr style=\"text-align: right;\">\n",
       "      <th></th>\n",
       "      <th>engine_displacement</th>\n",
       "      <th>horsepower</th>\n",
       "      <th>vehicle_weight</th>\n",
       "      <th>model_year</th>\n",
       "      <th>fuel_efficiency_mpg</th>\n",
       "    </tr>\n",
       "  </thead>\n",
       "  <tbody>\n",
       "    <tr>\n",
       "      <th>count</th>\n",
       "      <td>9704.000000</td>\n",
       "      <td>8996.000000</td>\n",
       "      <td>9704.000000</td>\n",
       "      <td>9704.000000</td>\n",
       "      <td>9704.000000</td>\n",
       "    </tr>\n",
       "    <tr>\n",
       "      <th>mean</th>\n",
       "      <td>199.708368</td>\n",
       "      <td>149.657292</td>\n",
       "      <td>3001.280993</td>\n",
       "      <td>2011.484027</td>\n",
       "      <td>14.985243</td>\n",
       "    </tr>\n",
       "    <tr>\n",
       "      <th>std</th>\n",
       "      <td>49.455319</td>\n",
       "      <td>29.879555</td>\n",
       "      <td>497.894860</td>\n",
       "      <td>6.659808</td>\n",
       "      <td>2.556468</td>\n",
       "    </tr>\n",
       "    <tr>\n",
       "      <th>min</th>\n",
       "      <td>10.000000</td>\n",
       "      <td>37.000000</td>\n",
       "      <td>952.681761</td>\n",
       "      <td>2000.000000</td>\n",
       "      <td>6.200971</td>\n",
       "    </tr>\n",
       "    <tr>\n",
       "      <th>25%</th>\n",
       "      <td>170.000000</td>\n",
       "      <td>130.000000</td>\n",
       "      <td>2666.248985</td>\n",
       "      <td>2006.000000</td>\n",
       "      <td>13.267459</td>\n",
       "    </tr>\n",
       "    <tr>\n",
       "      <th>50%</th>\n",
       "      <td>200.000000</td>\n",
       "      <td>149.000000</td>\n",
       "      <td>2993.226296</td>\n",
       "      <td>2012.000000</td>\n",
       "      <td>15.006037</td>\n",
       "    </tr>\n",
       "    <tr>\n",
       "      <th>75%</th>\n",
       "      <td>230.000000</td>\n",
       "      <td>170.000000</td>\n",
       "      <td>3334.957039</td>\n",
       "      <td>2017.000000</td>\n",
       "      <td>16.707965</td>\n",
       "    </tr>\n",
       "    <tr>\n",
       "      <th>max</th>\n",
       "      <td>380.000000</td>\n",
       "      <td>271.000000</td>\n",
       "      <td>4739.077089</td>\n",
       "      <td>2023.000000</td>\n",
       "      <td>25.967222</td>\n",
       "    </tr>\n",
       "  </tbody>\n",
       "</table>\n",
       "</div>"
      ],
      "text/plain": [
       "       engine_displacement   horsepower  vehicle_weight   model_year  \\\n",
       "count          9704.000000  8996.000000     9704.000000  9704.000000   \n",
       "mean            199.708368   149.657292     3001.280993  2011.484027   \n",
       "std              49.455319    29.879555      497.894860     6.659808   \n",
       "min              10.000000    37.000000      952.681761  2000.000000   \n",
       "25%             170.000000   130.000000     2666.248985  2006.000000   \n",
       "50%             200.000000   149.000000     2993.226296  2012.000000   \n",
       "75%             230.000000   170.000000     3334.957039  2017.000000   \n",
       "max             380.000000   271.000000     4739.077089  2023.000000   \n",
       "\n",
       "       fuel_efficiency_mpg  \n",
       "count          9704.000000  \n",
       "mean             14.985243  \n",
       "std               2.556468  \n",
       "min               6.200971  \n",
       "25%              13.267459  \n",
       "50%              15.006037  \n",
       "75%              16.707965  \n",
       "max              25.967222  "
      ]
     },
     "execution_count": 52,
     "metadata": {},
     "output_type": "execute_result"
    }
   ],
   "source": [
    "df.describe()"
   ]
  },
  {
   "cell_type": "code",
   "execution_count": 54,
   "id": "a9d8176f-ba99-4407-ba93-e698bb6967fd",
   "metadata": {},
   "outputs": [],
   "source": [
    "# Shuffle the dataset; seed 42\n",
    "df = df.sample(frac=1, random_state=42).reset_index(drop=True)"
   ]
  },
  {
   "cell_type": "code",
   "execution_count": 57,
   "id": "e981e2ed-83c6-4e6f-b98d-d89644edaee0",
   "metadata": {},
   "outputs": [
    {
     "data": {
      "text/html": [
       "<div>\n",
       "<style scoped>\n",
       "    .dataframe tbody tr th:only-of-type {\n",
       "        vertical-align: middle;\n",
       "    }\n",
       "\n",
       "    .dataframe tbody tr th {\n",
       "        vertical-align: top;\n",
       "    }\n",
       "\n",
       "    .dataframe thead th {\n",
       "        text-align: right;\n",
       "    }\n",
       "</style>\n",
       "<table border=\"1\" class=\"dataframe\">\n",
       "  <thead>\n",
       "    <tr style=\"text-align: right;\">\n",
       "      <th></th>\n",
       "      <th>engine_displacement</th>\n",
       "      <th>horsepower</th>\n",
       "      <th>vehicle_weight</th>\n",
       "      <th>model_year</th>\n",
       "      <th>fuel_efficiency_mpg</th>\n",
       "    </tr>\n",
       "  </thead>\n",
       "  <tbody>\n",
       "    <tr>\n",
       "      <th>0</th>\n",
       "      <td>220</td>\n",
       "      <td>144.0</td>\n",
       "      <td>2535.887591</td>\n",
       "      <td>2009</td>\n",
       "      <td>16.642943</td>\n",
       "    </tr>\n",
       "    <tr>\n",
       "      <th>1</th>\n",
       "      <td>160</td>\n",
       "      <td>141.0</td>\n",
       "      <td>2741.170484</td>\n",
       "      <td>2019</td>\n",
       "      <td>16.298377</td>\n",
       "    </tr>\n",
       "    <tr>\n",
       "      <th>2</th>\n",
       "      <td>230</td>\n",
       "      <td>155.0</td>\n",
       "      <td>2471.880237</td>\n",
       "      <td>2017</td>\n",
       "      <td>18.591822</td>\n",
       "    </tr>\n",
       "    <tr>\n",
       "      <th>3</th>\n",
       "      <td>150</td>\n",
       "      <td>206.0</td>\n",
       "      <td>3748.164469</td>\n",
       "      <td>2015</td>\n",
       "      <td>11.818843</td>\n",
       "    </tr>\n",
       "    <tr>\n",
       "      <th>4</th>\n",
       "      <td>300</td>\n",
       "      <td>111.0</td>\n",
       "      <td>2135.716359</td>\n",
       "      <td>2006</td>\n",
       "      <td>19.402209</td>\n",
       "    </tr>\n",
       "  </tbody>\n",
       "</table>\n",
       "</div>"
      ],
      "text/plain": [
       "   engine_displacement  horsepower  vehicle_weight  model_year  \\\n",
       "0                  220       144.0     2535.887591        2009   \n",
       "1                  160       141.0     2741.170484        2019   \n",
       "2                  230       155.0     2471.880237        2017   \n",
       "3                  150       206.0     3748.164469        2015   \n",
       "4                  300       111.0     2135.716359        2006   \n",
       "\n",
       "   fuel_efficiency_mpg  \n",
       "0            16.642943  \n",
       "1            16.298377  \n",
       "2            18.591822  \n",
       "3            11.818843  \n",
       "4            19.402209  "
      ]
     },
     "execution_count": 57,
     "metadata": {},
     "output_type": "execute_result"
    }
   ],
   "source": [
    "df.head()"
   ]
  },
  {
   "cell_type": "code",
   "execution_count": 55,
   "id": "bc121864-9510-425e-84af-53f4491b0ad0",
   "metadata": {},
   "outputs": [],
   "source": [
    "# Split your data in train/val/test sets, with 60%/20%/20% distribution\n",
    "n = len(df)\n",
    "train_end = int(0.6 * n)\n",
    "val_end = int(0.8 * n)"
   ]
  },
  {
   "cell_type": "code",
   "execution_count": 56,
   "id": "9dc4376b-9a12-4f9b-86bf-6c3a51a6ec64",
   "metadata": {},
   "outputs": [
    {
     "name": "stdout",
     "output_type": "stream",
     "text": [
      "Train: 5822\n",
      "Validation: 1941\n",
      "Test: 1941\n"
     ]
    }
   ],
   "source": [
    "train_df = df[:train_end]\n",
    "val_df = df[train_end:val_end]\n",
    "test_df = df[val_end:]\n",
    "\n",
    "# size\n",
    "print(\"Train:\", len(train_df))\n",
    "print(\"Validation:\", len(val_df))\n",
    "print(\"Test:\", len(test_df))\n"
   ]
  },
  {
   "cell_type": "markdown",
   "id": "7b042f23-8ca9-49a5-8630-92604e16795b",
   "metadata": {},
   "source": [
    "### Question 3\n",
    "We need to deal with missing values for the column from Q1"
   ]
  },
  {
   "cell_type": "code",
   "execution_count": 59,
   "id": "0de4429f-23e3-4b5b-aa81-b1c8c274b59d",
   "metadata": {},
   "outputs": [],
   "source": [
    "# fill it with 0 \n",
    "train_0 = train_df.copy()\n",
    "val_0 = val_df.copy()\n",
    "test_0 = test_df.copy()\n",
    "\n",
    "train_0['horsepower'] = train_0['horsepower'].fillna(0)\n",
    "val_0['horsepower'] = val_0['horsepower'].fillna(0)\n",
    "test_0['horsepower'] = test_0['horsepower'].fillna(0)\n"
   ]
  },
  {
   "cell_type": "code",
   "execution_count": 60,
   "id": "0e4c557b-a90b-4c43-81a2-47d881ad2cae",
   "metadata": {},
   "outputs": [],
   "source": [
    "# fill it whit mean\n",
    "mean_hp = train_df['horsepower'].mean()\n",
    "\n",
    "train_mean = train_df.copy()\n",
    "val_mean = val_df.copy()\n",
    "test_mean = test_df.copy()\n",
    "\n",
    "train_mean['horsepower'] = train_mean['horsepower'].fillna(mean_hp)\n",
    "val_mean['horsepower'] = val_mean['horsepower'].fillna(mean_hp)\n",
    "test_mean['horsepower'] = test_mean['horsepower'].fillna(mean_hp)"
   ]
  },
  {
   "cell_type": "code",
   "execution_count": 69,
   "id": "59d686b9-86ef-41aa-bb44-523677d8282d",
   "metadata": {},
   "outputs": [],
   "source": [
    "features = ['engine_displacement', 'horsepower', 'vehicle_weight', 'model_year']\n",
    "target = 'fuel_efficiency_mpg'"
   ]
  },
  {
   "cell_type": "markdown",
   "id": "b8e32c86-0806-4ef3-ad0a-c0b6ca753856",
   "metadata": {},
   "source": [
    "### Train linear regression model "
   ]
  },
  {
   "cell_type": "code",
   "execution_count": 67,
   "id": "662409e0-081e-4db9-a244-aff329614c86",
   "metadata": {},
   "outputs": [],
   "source": [
    "def train_linear_regression(X, y):\n",
    "    ones = np.ones(X.shape[0])\n",
    "    X = np.column_stack([ones, X])\n",
    "\n",
    "    XTX = X.T.dot(X)\n",
    "    XTX_inv = np.linalg.inv(XTX)\n",
    "    w = XTX_inv.dot(X.T).dot(y)\n",
    "    \n",
    "    return w[0], w[1:]"
   ]
  },
  {
   "cell_type": "code",
   "execution_count": 75,
   "id": "ff6a079a-bc49-4c3c-930e-325e480dec8c",
   "metadata": {},
   "outputs": [],
   "source": [
    "def prepare_data(df, features, target):\n",
    "    X = df[features].values\n",
    "    y = df[target].values\n",
    "    return X, y"
   ]
  },
  {
   "cell_type": "code",
   "execution_count": 72,
   "id": "437855ef-b41d-4288-bab0-a683fa6889ba",
   "metadata": {},
   "outputs": [],
   "source": [
    "def train(df_train, df_val, df_test):\n",
    "    X_train, y_train = df_train[features].values, df_train[target].values\n",
    "    X_val, y_val = df_val[features].values, df_val[target].values\n",
    "    X_test, y_test = df_test[features].values, df_test[target].values\n",
    "    \n",
    "    intercept, weights = train_linear_regression(X_train, y_train)\n",
    "    return intercept, weights"
   ]
  },
  {
   "cell_type": "code",
   "execution_count": 93,
   "id": "22d28fc4-124a-46e2-9169-b88befdc8c04",
   "metadata": {},
   "outputs": [],
   "source": [
    "def predict(X, intercept, weights):\n",
    "    return intercept + X.dot(weights)"
   ]
  },
  {
   "cell_type": "code",
   "execution_count": 94,
   "id": "6bf9a1f8-0f8c-4314-8e86-d2137de3366a",
   "metadata": {},
   "outputs": [],
   "source": [
    "def rmse(y, y_pred):\n",
    "    error = y_pred - y\n",
    "    mse = (error ** 2).mean()\n",
    "    return np.sqrt(mse)"
   ]
  },
  {
   "cell_type": "markdown",
   "id": "03e618a4-3a7c-4dce-b662-df92eb4ad65f",
   "metadata": {},
   "source": [
    "#### Using fill with 0 "
   ]
  },
  {
   "cell_type": "code",
   "execution_count": 106,
   "id": "98acf769-37a6-4096-98f9-f92be243d211",
   "metadata": {},
   "outputs": [],
   "source": [
    "X_train_0, y_train_0 = prepare_data(train_0, features, target)\n",
    "X_val_0, y_val_0 = prepare_data(val_0, features, target)\n",
    "X_test_0, y_test_0 = prepare_data(test_0, features, target)"
   ]
  },
  {
   "cell_type": "code",
   "execution_count": 107,
   "id": "4188d503-d2e5-46f5-bf35-22e4c334dce5",
   "metadata": {},
   "outputs": [],
   "source": [
    "intercept, weights = train_linear_regression(X_train_0, y_train_0)"
   ]
  },
  {
   "cell_type": "code",
   "execution_count": 108,
   "id": "0ecf3ae8-4af3-4430-8321-e59d95d9096c",
   "metadata": {},
   "outputs": [
    {
     "name": "stdout",
     "output_type": "stream",
     "text": [
      "28.81074933083766 [ 9.88022381e-05  3.54195814e-03 -5.01316573e-03  3.51135283e-04]\n"
     ]
    }
   ],
   "source": [
    "print(intercept, weights)"
   ]
  },
  {
   "cell_type": "code",
   "execution_count": 109,
   "id": "1140ee95-a093-4e21-8918-fd859edab3f0",
   "metadata": {},
   "outputs": [],
   "source": [
    "y_pred_0 = predict(X_train_0, intercept, weights)"
   ]
  },
  {
   "cell_type": "code",
   "execution_count": 110,
   "id": "7fb5db02-6285-414b-aa35-b1f86109d921",
   "metadata": {},
   "outputs": [
    {
     "data": {
      "text/plain": [
       "array([17.33513381, 16.29297399, 17.69877193, ..., 16.96501326,\n",
       "        9.93934888, 17.54537364], shape=(5822,))"
      ]
     },
     "execution_count": 110,
     "metadata": {},
     "output_type": "execute_result"
    }
   ],
   "source": [
    "y_pred_0"
   ]
  },
  {
   "cell_type": "code",
   "execution_count": 111,
   "id": "aee75ac7-4fd4-4f55-af20-d9e24d785f38",
   "metadata": {},
   "outputs": [],
   "source": [
    "rmse_0 = rmse(y_train_0, y_pred_0)"
   ]
  },
  {
   "cell_type": "code",
   "execution_count": 112,
   "id": "50d256df-f9cd-4778-a61f-c59e71dec14c",
   "metadata": {},
   "outputs": [
    {
     "data": {
      "text/plain": [
       "0.52"
      ]
     },
     "execution_count": 112,
     "metadata": {},
     "output_type": "execute_result"
    }
   ],
   "source": [
    "round(float(rmse_0), 2)"
   ]
  },
  {
   "cell_type": "code",
   "execution_count": 113,
   "id": "6a19e1e5-8d32-4de7-b088-6bd43d12f144",
   "metadata": {},
   "outputs": [],
   "source": [
    "y_pred_val_0 = predict(X_val_0, intercept, weights)"
   ]
  },
  {
   "cell_type": "code",
   "execution_count": 114,
   "id": "59bff749-ca7e-49a5-acb2-32e68db1178d",
   "metadata": {},
   "outputs": [],
   "source": [
    "val_rmse_0 = rmse(y_val_0, y_pred_val_0)"
   ]
  },
  {
   "cell_type": "code",
   "execution_count": 115,
   "id": "d1f74119-6eca-4c05-9b7a-495f72f118e4",
   "metadata": {},
   "outputs": [
    {
     "data": {
      "text/plain": [
       "0.52"
      ]
     },
     "execution_count": 115,
     "metadata": {},
     "output_type": "execute_result"
    }
   ],
   "source": [
    "round(float(val_rmse_0), 2)"
   ]
  },
  {
   "cell_type": "markdown",
   "id": "cf529763-dd3c-4b9a-8bd4-84de7384d792",
   "metadata": {},
   "source": [
    "#### Using with mean"
   ]
  },
  {
   "cell_type": "code",
   "execution_count": 116,
   "id": "1a8fd877-a069-45be-9230-84e8fe4af9d4",
   "metadata": {},
   "outputs": [],
   "source": [
    "X_train_mean, y_train_mean = prepare_data(train_mean, features, target)\n",
    "X_val_mean, y_val_mean = prepare_data(val_mean, features, target)\n",
    "X_test_mean, y_test_mean = prepare_data(test_mean, features, target)"
   ]
  },
  {
   "cell_type": "code",
   "execution_count": 117,
   "id": "7c890cc5-9254-44e9-b038-ea0212e3e0a7",
   "metadata": {},
   "outputs": [],
   "source": [
    "intercept_mean, weights_mean = train_linear_regression(X_train_mean, y_train_mean)"
   ]
  },
  {
   "cell_type": "code",
   "execution_count": 118,
   "id": "fc653fc0-947a-46a2-aad6-bd4c9ca9aac2",
   "metadata": {},
   "outputs": [
    {
     "name": "stdout",
     "output_type": "stream",
     "text": [
      "28.81074933083766 [ 9.88022381e-05  3.54195814e-03 -5.01316573e-03  3.51135283e-04]\n"
     ]
    }
   ],
   "source": [
    "print(intercept, weights)"
   ]
  },
  {
   "cell_type": "code",
   "execution_count": 119,
   "id": "4e3114c2-0de7-4633-986d-673cb91ec081",
   "metadata": {},
   "outputs": [],
   "source": [
    "y_pred_mean = predict(X_train_mean, intercept_mean, weights_mean)"
   ]
  },
  {
   "cell_type": "code",
   "execution_count": 120,
   "id": "22a11ef5-d281-4ec2-b9a4-f784fea4cf59",
   "metadata": {},
   "outputs": [
    {
     "data": {
      "text/plain": [
       "array([17.25897351, 16.1901266 , 17.69237721, ..., 16.8561374 ,\n",
       "        9.78516302, 17.51662531], shape=(5822,))"
      ]
     },
     "execution_count": 120,
     "metadata": {},
     "output_type": "execute_result"
    }
   ],
   "source": [
    "y_pred_mean"
   ]
  },
  {
   "cell_type": "code",
   "execution_count": 121,
   "id": "9b6377eb-9ef4-4899-8b32-9a4349e86eac",
   "metadata": {},
   "outputs": [
    {
     "data": {
      "text/plain": [
       "0.46"
      ]
     },
     "execution_count": 121,
     "metadata": {},
     "output_type": "execute_result"
    }
   ],
   "source": [
    "rmse_mean = rmse(y_train_mean, y_pred_mean)\n",
    "round(float(rmse_mean), 2)"
   ]
  },
  {
   "cell_type": "code",
   "execution_count": 122,
   "id": "38bb4e85-575a-483e-a877-075cccaa5a7e",
   "metadata": {},
   "outputs": [
    {
     "data": {
      "text/plain": [
       "0.46"
      ]
     },
     "execution_count": 122,
     "metadata": {},
     "output_type": "execute_result"
    }
   ],
   "source": [
    "y_pred_val_mean = predict(X_val_mean, intercept_mean, weights_mean)\n",
    "val_rmse_mean = rmse(y_val_mean, y_pred_val_mean)\n",
    "round(float(val_rmse_mean), 2)"
   ]
  },
  {
   "cell_type": "code",
   "execution_count": 123,
   "id": "d0b175b1-020c-46d7-ad2a-0b8c18960d8e",
   "metadata": {},
   "outputs": [
    {
     "name": "stdout",
     "output_type": "stream",
     "text": [
      "Train RMSE: 0.46\n",
      "Validation RMSE: 0.46\n"
     ]
    }
   ],
   "source": [
    "print(\"Train RMSE:\", round(rmse(y_train_mean, predict(X_train_mean, intercept_mean, weights_mean)), 2))\n",
    "print(\"Validation RMSE:\", round(rmse(y_val_mean, predict(X_val_mean, intercept_mean, weights_mean)), 2))\n"
   ]
  },
  {
   "cell_type": "code",
   "execution_count": 126,
   "id": "4897737d-31ba-469a-a7c8-72638f7494db",
   "metadata": {},
   "outputs": [
    {
     "data": {
      "image/png": "[encoded data removed]",
      "text/plain": [
       "<Figure size 800x500 with 1 Axes>"
      ]
     },
     "metadata": {},
     "output_type": "display_data"
    }
   ],
   "source": [
    "import matplotlib.pyplot as plt\n",
    "import seaborn as sns\n",
    "\n",
    "# RMSEs round\n",
    "rmse_data = {\n",
    "    'Dataset': ['Train', 'Validation', 'Train', 'Validation'],\n",
    "    'RMSE': [\n",
    "        round(rmse(y_train_0, predict(X_train_0, intercept, weights)), 2),\n",
    "        round(rmse(y_val_0, predict(X_val_0, intercept, weights)), 2),\n",
    "        round(rmse(y_train_mean, predict(X_train_mean, intercept_mean, weights_mean)), 2),\n",
    "        round(rmse(y_val_mean, predict(X_val_mean, intercept_mean, weights_mean)), 2),\n",
    "    ],\n",
    "    'Imputation': ['Fill 0', 'Fill 0', 'Fill mean', 'Fill mean']\n",
    "}\n",
    "\n",
    "rmse_df = pd.DataFrame(rmse_data)\n",
    "\n",
    "# Plot\n",
    "plt.figure(figsize=(8,5))\n",
    "sns.barplot(x='Dataset', y='RMSE', hue='Imputation', data=rmse_df)\n",
    "plt.title('Comparison of RMSE: Fill 0 vs Fill Mean')\n",
    "plt.ylabel('RMSE')\n",
    "plt.show()\n"
   ]
  },
  {
   "cell_type": "markdown",
   "id": "21194565-8f4f-4676-888e-a5caf7c12625",
   "metadata": {},
   "source": [
    "### Question 4 Regularization"
   ]
  },
  {
   "cell_type": "code",
   "execution_count": 128,
   "id": "1dccbd6c-e0b9-4015-abbc-9f04d6e242b7",
   "metadata": {},
   "outputs": [],
   "source": [
    "def train_linear_regression_reg(X, y, r=0.0):\n",
    "    ones = np.ones(X.shape[0])\n",
    "    X = np.column_stack([ones, X])\n",
    "\n",
    "    XTX = X.T.dot(X)\n",
    "    reg = r * np.eye(XTX.shape[0])\n",
    "    XTX = XTX + reg\n",
    "\n",
    "    XTX_inv = np.linalg.inv(XTX)\n",
    "    w = XTX_inv.dot(X.T).dot(y)\n",
    "    \n",
    "    return w[0], w[1:]"
   ]
  },
  {
   "cell_type": "code",
   "execution_count": 131,
   "id": "19992231-5d89-449c-8d65-253dd532aa6e",
   "metadata": {},
   "outputs": [
    {
     "name": "stdout",
     "output_type": "stream",
     "text": [
      "     0 0.5170592248877097\n",
      "  0.01 0.5168075789608201\n",
      "   0.1 0.5185025368483681\n",
      "     1 0.5220203867976794\n",
      "     5 0.5226819000483803\n",
      "    10 0.5227722134465188\n",
      "   100 0.5228551072227902\n"
     ]
    }
   ],
   "source": [
    "for r in [0, 0.01, 0.1, 1, 5, 10, 100]:\n",
    "    w_0, w = train_linear_regression_reg(X_train_0, y_train_0, r=r)\n",
    "    y_pred = w_0 + X_val_0.dot(w)\n",
    "    print('%6s' %r, rmse(y_val_0, y_pred))"
   ]
  },
  {
   "cell_type": "markdown",
   "id": "da79a586-6b76-415c-b7c9-3ed34b92ec09",
   "metadata": {},
   "source": [
    "### Question 5\n",
    " Let's find out how selecting the seed influences our score"
   ]
  },
  {
   "cell_type": "code",
   "execution_count": 133,
   "id": "b642ce7d-701b-4a05-89f9-ba053be19fa8",
   "metadata": {},
   "outputs": [],
   "source": [
    "def prepare_X(df):\n",
    "    features = ['engine_displacement', 'horsepower', 'vehicle_weight', 'model_year']\n",
    "    X = df[features].values\n",
    "    return X"
   ]
  },
  {
   "cell_type": "code",
   "execution_count": 136,
   "id": "62fcb0f5-24e6-4b8a-bc3a-d5bd5ede889b",
   "metadata": {},
   "outputs": [
    {
     "name": "stdout",
     "output_type": "stream",
     "text": [
      "Validation RMSEs: [0.516, 0.509, 0.516, 0.527, 0.533, 0.518, 0.513, 0.53, 0.507, 0.521]\n",
      "Standard deviation: 0.008\n"
     ]
    }
   ],
   "source": [
    "rmses = []\n",
    "\n",
    "for seed in range(10):\n",
    "    # Shuffle dataset \n",
    "    df_shuffled = df.sample(frac=1, random_state=seed)\n",
    "    \n",
    "    # Split 60%/20%/20%\n",
    "    n = len(df_shuffled)\n",
    "    n_train = int(0.6 * n)\n",
    "    n_val = int(0.2 * n)\n",
    "    \n",
    "    df_train = df_shuffled.iloc[:n_train].copy()\n",
    "    df_val = df_shuffled.iloc[n_train:n_train + n_val].copy()\n",
    "    df_test = df_shuffled.iloc[n_train + n_val:].copy()\n",
    "\n",
    "    # Fill missing values with 0\n",
    "    for dataset in [df_train, df_val, df_test]:\n",
    "        dataset['horsepower'] = dataset['horsepower'].fillna(0)\n",
    "\n",
    "    # Prepare X, y\n",
    "    X_train = prepare_X(df_train)\n",
    "    y_train = df_train['fuel_efficiency_mpg'].values\n",
    "\n",
    "    X_val = prepare_X(df_val)\n",
    "    y_val = df_val['fuel_efficiency_mpg'].values\n",
    "\n",
    "    # Train model (no regularization)\n",
    "    w0, w = train_linear_regression(X_train, y_train)\n",
    "\n",
    "    # Predict & compute RMSE\n",
    "    y_pred = w0 + X_val.dot(w)\n",
    "    score = rmse(y_val, y_pred)\n",
    "    rmses.append(score)\n",
    "\n",
    "# --- Compute std ---\n",
    "std = np.std(rmses)\n",
    "print(\"Validation RMSEs:\", [round(float(s), 3) for s in rmses])\n",
    "print(\"Standard deviation:\", round(std, 3))\n"
   ]
  },
  {
   "cell_type": "markdown",
   "id": "3ddb03eb-9b79-4926-bd52-3e32bb4d09e0",
   "metadata": {},
   "source": [
    "### Question 6"
   ]
  },
  {
   "cell_type": "code",
   "execution_count": 137,
   "id": "f865ea20-6e12-4118-af72-908653611fae",
   "metadata": {},
   "outputs": [],
   "source": [
    "df_shuffled = df.sample(frac=1, random_state=9)\n",
    "\n",
    "n = len(df_shuffled)\n",
    "n_train = int(0.6 * n)\n",
    "n_val = int(0.2 * n)\n",
    "n_test = n - n_train - n_val\n",
    "\n",
    "df_train = df_shuffled.iloc[:n_train]\n",
    "df_val = df_shuffled.iloc[n_train:n_train + n_val]\n",
    "df_test = df_shuffled.iloc[n_train + n_val:]\n"
   ]
  },
  {
   "cell_type": "code",
   "execution_count": 138,
   "id": "3cf7c5cb-9919-4b98-aa10-f2461b5efffb",
   "metadata": {},
   "outputs": [],
   "source": [
    "df_full_train = pd.concat([df_train, df_val]).reset_index(drop=True)\n"
   ]
  },
  {
   "cell_type": "code",
   "execution_count": 139,
   "id": "7def9070-6a0e-48d4-8808-95c50cb99f00",
   "metadata": {},
   "outputs": [],
   "source": [
    "df_full_train = df_full_train.fillna(0)\n",
    "df_test = df_test.fillna(0)\n"
   ]
  },
  {
   "cell_type": "code",
   "execution_count": 140,
   "id": "8d28d284-ad33-451b-ae5c-4d8903ee7a32",
   "metadata": {},
   "outputs": [],
   "source": [
    "X_full_train = prepare_X(df_full_train)\n",
    "y_full_train = df_full_train['fuel_efficiency_mpg'].values\n",
    "\n",
    "X_test = prepare_X(df_test)\n",
    "y_test = df_test['fuel_efficiency_mpg'].values\n"
   ]
  },
  {
   "cell_type": "code",
   "execution_count": 141,
   "id": "3bccab54-9071-4e88-84a8-f47b90454c12",
   "metadata": {},
   "outputs": [],
   "source": [
    "w0, w = train_linear_regression_reg(X_full_train, y_full_train, r=0.001)\n"
   ]
  },
  {
   "cell_type": "code",
   "execution_count": 142,
   "id": "05322bbe-b1db-48df-9f7b-d60f3c25d88a",
   "metadata": {},
   "outputs": [
    {
     "name": "stdout",
     "output_type": "stream",
     "text": [
      "0.53\n"
     ]
    }
   ],
   "source": [
    "y_pred = w0 + X_test.dot(w)\n",
    "test_rmse = rmse(y_test, y_pred)\n",
    "print(round(test_rmse, 2))\n"
   ]
  },
  {
   "cell_type": "code",
   "execution_count": null,
   "id": "abc35b85-6afc-41ac-ae90-3e523658b556",
   "metadata": {},
   "outputs": [],
   "source": []
  }
 ],
 "metadata": {
  "kernelspec": {
   "display_name": "Python 3 (ipykernel)",
   "language": "python",
   "name": "python3"
  },
  "language_info": {
   "codemirror_mode": {
    "name": "ipython",
    "version": 3
   },
   "file_extension": ".py",
   "mimetype": "text/x-python",
   "name": "python",
   "nbconvert_exporter": "python",
   "pygments_lexer": "ipython3",
   "version": "3.12.8"
  }
 },
 "nbformat": 4,
 "nbformat_minor": 5
}
